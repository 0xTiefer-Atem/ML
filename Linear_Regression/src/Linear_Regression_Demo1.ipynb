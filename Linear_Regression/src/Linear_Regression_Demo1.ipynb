{
 "cells": [
  {
   "cell_type": "markdown",
   "metadata": {},
   "source": [
    "# Linear Regression From Scratch"
   ]
  },
  {
   "cell_type": "markdown",
   "metadata": {},
   "source": [
    "#### 添加依赖"
   ]
  },
  {
   "cell_type": "code",
   "execution_count": 3,
   "metadata": {},
   "outputs": [],
   "source": [
    "import matplotlib.pyplot as plt"
   ]
  },
  {
   "cell_type": "markdown",
   "metadata": {},
   "source": [
    "#### 导入数据集"
   ]
  },
  {
   "cell_type": "code",
   "execution_count": 4,
   "metadata": {},
   "outputs": [],
   "source": [
    "x = [12.3,14.3,16.5,16.5,13.7,12.6,16.7,18.9,10.9,16.4,22.4,25.6,27.8,21.4,25.9,16.8]\n",
    "y = [22.3,24.3,26.5,26.5,23.7,22.6,26.7,28.9,20.9,26.4,12.4,15.6,17.8,11.4,15.9,26.8]"
   ]
  },
  {
   "cell_type": "code",
   "execution_count": 5,
   "metadata": {},
   "outputs": [
    {
     "name": "stdout",
     "output_type": "stream",
     "text": [
      "16\n"
     ]
    }
   ],
   "source": [
    "print(len(x))"
   ]
  },
  {
   "cell_type": "markdown",
   "metadata": {},
   "source": [
    "#### 将数据集分为训练集与测试集"
   ]
  },
  {
   "cell_type": "code",
   "execution_count": 6,
   "metadata": {},
   "outputs": [
    {
     "name": "stdout",
     "output_type": "stream",
     "text": [
      "8\n",
      "8\n"
     ]
    }
   ],
   "source": [
    "x_train = x[0:8]\n",
    "y_train = y[0:8]\n",
    "n_train = len(x_train)\n",
    "print(n_train)\n",
    "\n",
    "x_test = x[8:]\n",
    "y_test = y[8:]\n",
    "n_test = len(x_test)\n",
    "print(n_test)"
   ]
  },
  {
   "cell_type": "markdown",
   "metadata": {},
   "source": [
    "#### 开始拟合一次模型 $y = w*x + b$ "
   ]
  },
  {
   "cell_type": "code",
   "execution_count": 7,
   "metadata": {},
   "outputs": [],
   "source": [
    "w = -0.1  # 随机初始化w值\n",
    "b = 3  # 随机初始化b值\n",
    "lr = 0.0001  # 初始化学习率"
   ]
  },
  {
   "cell_type": "markdown",
   "metadata": {},
   "source": [
    "#### 循环算 $\\hat y$"
   ]
  },
  {
   "cell_type": "code",
   "execution_count": 8,
   "metadata": {},
   "outputs": [
    {
     "name": "stdout",
     "output_type": "stream",
     "text": [
      "1.4439028804090361 3.121620304605655\n"
     ]
    }
   ],
   "source": [
    "## 开始进行回归运算\n",
    "for j in range(100):\n",
    "    sum_w = 0.0\n",
    "    sum_b = 0.0\n",
    "    for i in range(n_train):\n",
    "        y_hat = w * x_train[i] + b\n",
    "        sum_w += (y_train[i] - y_hat) * -x_train[i]\n",
    "        sum_b += (y_train[i] - y_hat) * -1\n",
    "    det_w = 2 * sum_w\n",
    "    det_b = 2 * sum_b\n",
    "\n",
    "    w = w - lr * det_w\n",
    "    b = b - lr * det_b\n",
    "print(w,b)"
   ]
  },
  {
   "cell_type": "markdown",
   "metadata": {},
   "source": [
    "### 画图"
   ]
  },
  {
   "cell_type": "code",
   "execution_count": 9,
   "metadata": {},
   "outputs": [
    {
     "data": {
      "image/png": "[encoded data removed]",
      "text/plain": [
       "<Figure size 432x288 with 1 Axes>"
      ]
     },
     "metadata": {
      "needs_background": "light"
     },
     "output_type": "display_data"
    }
   ],
   "source": [
    "# 训练集线性回归图图\n",
    "fig, ax = plt.subplots()\n",
    "ax.scatter(x_train, y_train)\n",
    "ax.plot([i for i in range(10 , 27)], [w * i + b for i in range(10, 27)])\n",
    "plt.title('y = w * x + b')\n",
    "plt.legend(('Model', 'Point'), loc = 'upper left')\n",
    "plt.show()"
   ]
  },
  {
   "cell_type": "code",
   "execution_count": 11,
   "metadata": {},
   "outputs": [
    {
     "data": {
      "image/png": "[encoded data removed]",
      "text/plain": [
       "<Figure size 432x288 with 1 Axes>"
      ]
     },
     "metadata": {
      "needs_background": "light"
     },
     "output_type": "display_data"
    }
   ],
   "source": [
    "# 测试集线性回归图图\n",
    "fig, ax = plt.subplots()\n",
    "ax.scatter(x_test, y_test)\n",
    "ax.plot([i for i in range(10 , 27)], [w * i + b for i in range(10, 27)])\n",
    "plt.title('y = w * x + b')\n",
    "plt.legend(('Model', 'Point'), loc = 'upper left')\n",
    "plt.show()"
   ]
  },
  {
   "cell_type": "markdown",
   "metadata": {},
   "source": [
    "### 计算损失值"
   ]
  },
  {
   "cell_type": "code",
   "execution_count": 10,
   "metadata": {},
   "outputs": [
    {
     "name": "stdout",
     "output_type": "stream",
     "text": [
      "2.2842838454129235 0.33545954496888486\n"
     ]
    }
   ],
   "source": [
    "total_train_loss = 0\n",
    "for i in range(n_train):\n",
    "    y_hat = w * x_train[i] + b\n",
    "    total_train_loss = (y_train[i] - y_hat) ** 2\n",
    "\n",
    "total_test_loss = 0\n",
    "for i in range(n_test):\n",
    "    y_hat = w * x_test[i] + b\n",
    "    total_test_loss = (y_test[i] - y_hat) ** 2\n",
    "print(total_train_loss,total_test_loss)"
   ]
  }
 ],
 "metadata": {
  "kernelspec": {
   "display_name": "Python 3",
   "language": "python",
   "name": "python3"
  },
  "language_info": {
   "codemirror_mode": {
    "name": "ipython",
    "version": 3
   },
   "file_extension": ".py",
   "mimetype": "text/x-python",
   "name": "python",
   "nbconvert_exporter": "python",
   "pygments_lexer": "ipython3",
   "version": "3.8.5"
  }
 },
 "nbformat": 4,
 "nbformat_minor": 4
}
